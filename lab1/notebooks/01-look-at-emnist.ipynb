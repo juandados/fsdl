{
  "nbformat": 4,
  "nbformat_minor": 0,
  "metadata": {
    "kernelspec": {
      "display_name": "Python 3.7.7 64-bit ('fsdl-text-recognizer': conda)",
      "language": "python",
      "name": "python37764bitfsdltextrecognizercondadeddc9485e524fe5bef8d396f447eae4"
    },
    "language_info": {
      "codemirror_mode": {
        "name": "ipython",
        "version": 3
      },
      "file_extension": ".py",
      "mimetype": "text/x-python",
      "name": "python",
      "nbconvert_exporter": "python",
      "pygments_lexer": "ipython3",
      "version": "3.7.7"
    },
    "colab": {
      "name": "01-look-at-emnist.ipynb",
      "provenance": []
    }
  },
  "cells": [
    {
      "cell_type": "code",
      "metadata": {
        "id": "NUbZImDz-D9Y",
        "colab_type": "code",
        "colab": {
          "base_uri": "https://localhost:8080/",
          "height": 136
        },
        "outputId": "782489b3-365f-4d88-d7ec-ec91a9d90ddf"
      },
      "source": [
        "# Solving environment\n",
        "!git clone https://github.com/juandados/fsdl.git\n",
        "cd fsdl\n",
        "!pip install pipenv\n",
        "!pipenv install\n",
        "cd lab1"
      ],
      "execution_count": null,
      "outputs": [
        {
          "output_type": "stream",
          "text": [
            "Cloning into 'fsdl'...\n",
            "remote: Enumerating objects: 210, done.\u001b[K\n",
            "remote: Counting objects: 100% (210/210), done.\u001b[K\n",
            "remote: Compressing objects: 100% (141/141), done.\u001b[K\n",
            "remote: Total 210 (delta 59), reused 210 (delta 59), pack-reused 0\u001b[K\n",
            "Receiving objects: 100% (210/210), 3.56 MiB | 22.76 MiB/s, done.\n",
            "Resolving deltas: 100% (59/59), done.\n"
          ],
          "name": "stdout"
        }
      ]
    },
    {
      "cell_type": "code",
      "metadata": {
        "id": "SLb893nJAO6Z",
        "colab_type": "code",
        "colab": {
          "base_uri": "https://localhost:8080/",
          "height": 34
        },
        "outputId": "02991c87-44d3-4439-d454-ed19b9ac04a7"
      },
      "source": [
        "import os\n",
        "os.environ['PYTHONPATH'] += \":.\"\n",
        "!echo $PYTHONPATH"
      ],
      "execution_count": null,
      "outputs": [
        {
          "output_type": "stream",
          "text": [
            "/content/fsdl/lab1\n"
          ],
          "name": "stdout"
        }
      ]
    },
    {
      "cell_type": "code",
      "metadata": {
        "id": "MLiWf43eAc7k",
        "colab_type": "code",
        "colab": {
          "base_uri": "https://localhost:8080/",
          "height": 1000
        },
        "outputId": "f5d5d537-90c0-4591-f983-16c343f0a489"
      },
      "source": [
        "!pipenv run training/run_experiment.py --save '{\"dataset\": \"EmnistDataset\", \"model\": \"CharacterModel\", \"network\": \"mlp\",  \"train_args\": {\"batch_size\": 256}}'"
      ],
      "execution_count": null,
      "outputs": [
        {
          "output_type": "stream",
          "text": [
            "2020-09-10 07:54:40.527902: I tensorflow/stream_executor/platform/default/dso_loader.cc:48] Successfully opened dynamic library libcudart.so.10.1\n",
            "Running experiment with config {'dataset': 'EmnistDataset', 'model': 'CharacterModel', 'network': 'mlp', 'train_args': {'batch_size': 256}} on GPU 0\n",
            "EMNIST Dataset\n",
            "Num classes: 80\n",
            "Mapping: {0: '0', 1: '1', 2: '2', 3: '3', 4: '4', 5: '5', 6: '6', 7: '7', 8: '8', 9: '9', 10: 'A', 11: 'B', 12: 'C', 13: 'D', 14: 'E', 15: 'F', 16: 'G', 17: 'H', 18: 'I', 19: 'J', 20: 'K', 21: 'L', 22: 'M', 23: 'N', 24: 'O', 25: 'P', 26: 'Q', 27: 'R', 28: 'S', 29: 'T', 30: 'U', 31: 'V', 32: 'W', 33: 'X', 34: 'Y', 35: 'Z', 36: 'a', 37: 'b', 38: 'c', 39: 'd', 40: 'e', 41: 'f', 42: 'g', 43: 'h', 44: 'i', 45: 'j', 46: 'k', 47: 'l', 48: 'm', 49: 'n', 50: 'o', 51: 'p', 52: 'q', 53: 'r', 54: 's', 55: 't', 56: 'u', 57: 'v', 58: 'w', 59: 'x', 60: 'y', 61: 'z', 62: ' ', 63: '!', 64: '\"', 65: '#', 66: '&', 67: \"'\", 68: '(', 69: ')', 70: '*', 71: '+', 72: ',', 73: '-', 74: '.', 75: '/', 76: ':', 77: ';', 78: '?', 79: '_'}\n",
            "Input shape: [28, 28]\n",
            "\n",
            "2020-09-10 07:54:44.255412: I tensorflow/stream_executor/platform/default/dso_loader.cc:48] Successfully opened dynamic library libcuda.so.1\n",
            "2020-09-10 07:54:44.260507: E tensorflow/stream_executor/cuda/cuda_driver.cc:314] failed call to cuInit: CUDA_ERROR_NO_DEVICE: no CUDA-capable device is detected\n",
            "2020-09-10 07:54:44.260554: I tensorflow/stream_executor/cuda/cuda_diagnostics.cc:156] kernel driver does not appear to be running on this host (3cad370b3837): /proc/driver/nvidia/version does not exist\n",
            "2020-09-10 07:54:44.260947: I tensorflow/core/platform/cpu_feature_guard.cc:142] This TensorFlow binary is optimized with oneAPI Deep Neural Network Library (oneDNN)to use the following CPU instructions in performance-critical operations:  AVX2 FMA\n",
            "To enable them in other operations, rebuild TensorFlow with the appropriate compiler flags.\n",
            "2020-09-10 07:54:44.266503: I tensorflow/core/platform/profile_utils/cpu_utils.cc:104] CPU Frequency: 2300000000 Hz\n",
            "2020-09-10 07:54:44.266760: I tensorflow/compiler/xla/service/service.cc:168] XLA service 0x2d519c0 initialized for platform Host (this does not guarantee that XLA will be used). Devices:\n",
            "2020-09-10 07:54:44.266797: I tensorflow/compiler/xla/service/service.cc:176]   StreamExecutor device (0): Host, Default Version\n",
            "Model: \"sequential\"\n",
            "_________________________________________________________________\n",
            "Layer (type)                 Output Shape              Param #   \n",
            "=================================================================\n",
            "flatten (Flatten)            (None, 784)               0         \n",
            "_________________________________________________________________\n",
            "dense (Dense)                (None, 128)               100480    \n",
            "_________________________________________________________________\n",
            "dropout (Dropout)            (None, 128)               0         \n",
            "_________________________________________________________________\n",
            "dense_1 (Dense)              (None, 128)               16512     \n",
            "_________________________________________________________________\n",
            "dropout_1 (Dropout)          (None, 128)               0         \n",
            "_________________________________________________________________\n",
            "dense_2 (Dense)              (None, 128)               16512     \n",
            "_________________________________________________________________\n",
            "dropout_2 (Dropout)          (None, 128)               0         \n",
            "_________________________________________________________________\n",
            "dense_3 (Dense)              (None, 80)                10320     \n",
            "=================================================================\n",
            "Total params: 143,824\n",
            "Trainable params: 143,824\n",
            "Non-trainable params: 0\n",
            "_________________________________________________________________\n",
            "<text_recognizer.models.character_model.CharacterModel object at 0x7feb7c0792e8>\n",
            "Model: \"sequential\"\n",
            "_________________________________________________________________\n",
            "Layer (type)                 Output Shape              Param #   \n",
            "=================================================================\n",
            "flatten (Flatten)            (None, 784)               0         \n",
            "_________________________________________________________________\n",
            "dense (Dense)                (None, 128)               100480    \n",
            "_________________________________________________________________\n",
            "dropout (Dropout)            (None, 128)               0         \n",
            "_________________________________________________________________\n",
            "dense_1 (Dense)              (None, 128)               16512     \n",
            "_________________________________________________________________\n",
            "dropout_1 (Dropout)          (None, 128)               0         \n",
            "_________________________________________________________________\n",
            "dense_2 (Dense)              (None, 128)               16512     \n",
            "_________________________________________________________________\n",
            "dropout_2 (Dropout)          (None, 128)               0         \n",
            "_________________________________________________________________\n",
            "dense_3 (Dense)              (None, 80)                10320     \n",
            "=================================================================\n",
            "Total params: 143,824\n",
            "Trainable params: 143,824\n",
            "Non-trainable params: 0\n",
            "_________________________________________________________________\n",
            "Epoch 1/16\n",
            "1314/1314 [==============================] - 13s 10ms/step - loss: 3.3313 - accuracy: 0.2078 - val_loss: 2.4539 - val_accuracy: 0.3922\n",
            "Epoch 2/16\n",
            "1314/1314 [==============================] - 13s 10ms/step - loss: 1.2873 - accuracy: 0.6064 - val_loss: 0.8126 - val_accuracy: 0.7230\n",
            "Epoch 3/16\n",
            "1314/1314 [==============================] - 14s 10ms/step - loss: 0.9626 - accuracy: 0.6830 - val_loss: 0.7287 - val_accuracy: 0.7446\n",
            "Epoch 4/16\n",
            "1314/1314 [==============================] - 13s 10ms/step - loss: 0.8825 - accuracy: 0.7044 - val_loss: 0.6929 - val_accuracy: 0.7533\n",
            "Epoch 5/16\n",
            "1314/1314 [==============================] - 17s 13ms/step - loss: 0.8427 - accuracy: 0.7157 - val_loss: 0.6609 - val_accuracy: 0.7636\n",
            "Epoch 6/16\n",
            "1314/1314 [==============================] - 14s 11ms/step - loss: 0.8191 - accuracy: 0.7223 - val_loss: 0.6564 - val_accuracy: 0.7645\n",
            "Epoch 7/16\n",
            "1314/1314 [==============================] - 13s 10ms/step - loss: 0.8029 - accuracy: 0.7261 - val_loss: 0.6450 - val_accuracy: 0.7688\n",
            "Epoch 8/16\n",
            "1314/1314 [==============================] - 13s 10ms/step - loss: 0.7896 - accuracy: 0.7310 - val_loss: 0.6371 - val_accuracy: 0.7711\n",
            "Epoch 9/16\n",
            "1314/1314 [==============================] - 13s 10ms/step - loss: 0.7832 - accuracy: 0.7329 - val_loss: 0.6318 - val_accuracy: 0.7720\n",
            "Epoch 10/16\n",
            "1314/1314 [==============================] - 13s 10ms/step - loss: 0.7758 - accuracy: 0.7359 - val_loss: 0.6333 - val_accuracy: 0.7715\n",
            "Epoch 11/16\n",
            "1314/1314 [==============================] - 13s 10ms/step - loss: 0.7713 - accuracy: 0.7365 - val_loss: 0.6275 - val_accuracy: 0.7741\n",
            "Epoch 12/16\n",
            "1314/1314 [==============================] - 14s 11ms/step - loss: 0.7703 - accuracy: 0.7374 - val_loss: 0.6219 - val_accuracy: 0.7753\n",
            "Epoch 00012: early stopping\n",
            "Training took 168.443044 s\n",
            "Test evaluation: 0.7753141300256323\n"
          ],
          "name": "stdout"
        }
      ]
    },
    {
      "cell_type": "markdown",
      "metadata": {
        "id": "0mnvBipp93Iv",
        "colab_type": "text"
      },
      "source": [
        "# Looking at EMNIST data"
      ]
    },
    {
      "cell_type": "code",
      "metadata": {
        "id": "6YTD50qsAIoj",
        "colab_type": "code",
        "colab": {}
      },
      "source": [
        "!pip install \"boltons==20.0.0\""
      ],
      "execution_count": null,
      "outputs": []
    },
    {
      "cell_type": "code",
      "metadata": {
        "id": "bGcmUFum_uNa",
        "colab_type": "code",
        "colab": {
          "base_uri": "https://localhost:8080/",
          "height": 34
        },
        "outputId": "771e0d2e-a343-458e-a9f6-7488a0f60377"
      },
      "source": [
        "cd lab1"
      ],
      "execution_count": 27,
      "outputs": [
        {
          "output_type": "stream",
          "text": [
            "/content/fsdl/lab1\n"
          ],
          "name": "stdout"
        }
      ]
    },
    {
      "cell_type": "code",
      "metadata": {
        "id": "bY-tSXAz93Iy",
        "colab_type": "code",
        "colab": {
          "base_uri": "https://localhost:8080/",
          "height": 51
        },
        "outputId": "773b8e9a-baf4-4c6e-9045-8a430589e5ab"
      },
      "source": [
        "%load_ext autoreload\n",
        "%autoreload 2\n",
        "\n",
        "%matplotlib inline\n",
        "import matplotlib.pyplot as plt\n",
        "import numpy as np\n",
        "\n",
        "from importlib.util import find_spec\n",
        "if find_spec(\"text_recognizer\") is None:\n",
        "    import sys\n",
        "    sys.path.append('..')\n",
        "\n",
        "from text_recognizer.datasets.emnist_dataset import EmnistDataset"
      ],
      "execution_count": 28,
      "outputs": [
        {
          "output_type": "stream",
          "text": [
            "The autoreload extension is already loaded. To reload it, use:\n",
            "  %reload_ext autoreload\n"
          ],
          "name": "stdout"
        }
      ]
    },
    {
      "cell_type": "code",
      "metadata": {
        "id": "Hj_H_fwx93JA",
        "colab_type": "code",
        "colab": {
          "base_uri": "https://localhost:8080/",
          "height": 122
        },
        "outputId": "4a000087-c71b-4460-e2e3-ae0d3e004c1e"
      },
      "source": [
        "emnist_data = EmnistDataset()\n",
        "print(emnist_data)"
      ],
      "execution_count": 29,
      "outputs": [
        {
          "output_type": "stream",
          "text": [
            "EMNIST Dataset\n",
            "Num classes: 80\n",
            "Mapping: {0: '0', 1: '1', 2: '2', 3: '3', 4: '4', 5: '5', 6: '6', 7: '7', 8: '8', 9: '9', 10: 'A', 11: 'B', 12: 'C', 13: 'D', 14: 'E', 15: 'F', 16: 'G', 17: 'H', 18: 'I', 19: 'J', 20: 'K', 21: 'L', 22: 'M', 23: 'N', 24: 'O', 25: 'P', 26: 'Q', 27: 'R', 28: 'S', 29: 'T', 30: 'U', 31: 'V', 32: 'W', 33: 'X', 34: 'Y', 35: 'Z', 36: 'a', 37: 'b', 38: 'c', 39: 'd', 40: 'e', 41: 'f', 42: 'g', 43: 'h', 44: 'i', 45: 'j', 46: 'k', 47: 'l', 48: 'm', 49: 'n', 50: 'o', 51: 'p', 52: 'q', 53: 'r', 54: 's', 55: 't', 56: 'u', 57: 'v', 58: 'w', 59: 'x', 60: 'y', 61: 'z', 62: ' ', 63: '!', 64: '\"', 65: '#', 66: '&', 67: \"'\", 68: '(', 69: ')', 70: '*', 71: '+', 72: ',', 73: '-', 74: '.', 75: '/', 76: ':', 77: ';', 78: '?', 79: '_'}\n",
            "Input shape: [28, 28]\n",
            "\n"
          ],
          "name": "stdout"
        }
      ]
    },
    {
      "cell_type": "code",
      "metadata": {
        "id": "UbK33mqv93JR",
        "colab_type": "code",
        "colab": {
          "base_uri": "https://localhost:8080/",
          "height": 187
        },
        "outputId": "12c4274e-6f21-454d-8a5b-b2f1d6c1cd3b"
      },
      "source": [
        "emnist_data.load_or_generate_data()\n",
        "emnist_data.x_train.shape, emnist_data.y_train.shape"
      ],
      "execution_count": 30,
      "outputs": [
        {
          "output_type": "stream",
          "text": [
            "\r0.00B [00:00, ?B/s]"
          ],
          "name": "stderr"
        },
        {
          "output_type": "stream",
          "text": [
            "Downloading raw dataset from https://s3-us-west-2.amazonaws.com/fsdl-public-assets/matlab.zip...\n"
          ],
          "name": "stdout"
        },
        {
          "output_type": "stream",
          "text": [
            "709MB [00:20, 36.9MB/s]                           \n"
          ],
          "name": "stderr"
        },
        {
          "output_type": "stream",
          "text": [
            "Computing SHA-256...\n",
            "Unzipping EMNIST...\n",
            "Loading training data from .mat file\n",
            "Balancing classes to reduce amount of data\n",
            "Saving to HDF5 in a compressed format...\n",
            "Saving essential dataset parameters to text_recognizer/datasets...\n",
            "Cleaning up...\n"
          ],
          "name": "stdout"
        },
        {
          "output_type": "execute_result",
          "data": {
            "text/plain": [
              "((336299, 28, 28), (336299, 80))"
            ]
          },
          "metadata": {
            "tags": []
          },
          "execution_count": 30
        }
      ]
    },
    {
      "cell_type": "code",
      "metadata": {
        "id": "ajG2-4Eu93JY",
        "colab_type": "code",
        "colab": {
          "base_uri": "https://localhost:8080/",
          "height": 34
        },
        "outputId": "00fbf4b5-c23e-4f69-97de-47e311587503"
      },
      "source": [
        "emnist_data.x_test.shape, emnist_data.y_test.shape"
      ],
      "execution_count": 31,
      "outputs": [
        {
          "output_type": "execute_result",
          "data": {
            "text/plain": [
              "((55789, 28, 28), (55789, 80))"
            ]
          },
          "metadata": {
            "tags": []
          },
          "execution_count": 31
        }
      ]
    },
    {
      "cell_type": "code",
      "metadata": {
        "id": "k0ExLBbI93Jg",
        "colab_type": "code",
        "colab": {
          "base_uri": "https://localhost:8080/",
          "height": 553
        },
        "outputId": "ab272c3f-77e8-47df-8ed3-c36b76aad8cb"
      },
      "source": [
        "fig = plt.figure(figsize=(9, 9))\n",
        "for i in range(9):\n",
        "    ax = fig.add_subplot(3, 3, i + 1)\n",
        "    ax.imshow(emnist_data.x_train[i].reshape(28, 28), cmap='gray')\n",
        "    ax.set_title(emnist_data.mapping[np.argmax(emnist_data.y_train[i])])"
      ],
      "execution_count": 32,
      "outputs": [
        {
          "output_type": "display_data",
          "data": {
            "image/png": "[encoded data removed]",
            "text/plain": [
              "<Figure size 648x648 with 9 Axes>"
            ]
          },
          "metadata": {
            "tags": [],
            "needs_background": "light"
          }
        }
      ]
    },
    {
      "cell_type": "markdown",
      "metadata": {
        "id": "rTRL8OqLCBm_",
        "colab_type": "text"
      },
      "source": [
        "# Executing Training"
      ]
    },
    {
      "cell_type": "code",
      "metadata": {
        "colab_type": "code",
        "id": "ZlHEsizaB463",
        "colab": {
          "base_uri": "https://localhost:8080/",
          "height": 136
        },
        "outputId": "782489b3-365f-4d88-d7ec-ec91a9d90ddf"
      },
      "source": [
        "# Solving environment\n",
        "!git clone https://github.com/juandados/fsdl.git\n",
        "cd fsdl\n",
        "!pip install pipenv\n",
        "!pipenv install\n",
        "cd lab1"
      ],
      "execution_count": null,
      "outputs": [
        {
          "output_type": "stream",
          "text": [
            "Cloning into 'fsdl'...\n",
            "remote: Enumerating objects: 210, done.\u001b[K\n",
            "remote: Counting objects: 100% (210/210), done.\u001b[K\n",
            "remote: Compressing objects: 100% (141/141), done.\u001b[K\n",
            "remote: Total 210 (delta 59), reused 210 (delta 59), pack-reused 0\u001b[K\n",
            "Receiving objects: 100% (210/210), 3.56 MiB | 22.76 MiB/s, done.\n",
            "Resolving deltas: 100% (59/59), done.\n"
          ],
          "name": "stdout"
        }
      ]
    },
    {
      "cell_type": "code",
      "metadata": {
        "colab_type": "code",
        "id": "p02oBHIlB47B",
        "colab": {
          "base_uri": "https://localhost:8080/",
          "height": 34
        },
        "outputId": "02991c87-44d3-4439-d454-ed19b9ac04a7"
      },
      "source": [
        "import os\n",
        "os.environ['PYTHONPATH'] += \":.\"\n",
        "!echo $PYTHONPATH"
      ],
      "execution_count": null,
      "outputs": [
        {
          "output_type": "stream",
          "text": [
            "/content/fsdl/lab1\n"
          ],
          "name": "stdout"
        }
      ]
    },
    {
      "cell_type": "code",
      "metadata": {
        "colab_type": "code",
        "id": "NSWTTLEoB47F",
        "colab": {
          "base_uri": "https://localhost:8080/",
          "height": 1000
        },
        "outputId": "f5d5d537-90c0-4591-f983-16c343f0a489"
      },
      "source": [
        "!pipenv run training/run_experiment.py --save '{\"dataset\": \"EmnistDataset\", \"model\": \"CharacterModel\", \"network\": \"mlp\",  \"train_args\": {\"batch_size\": 256}}'"
      ],
      "execution_count": null,
      "outputs": [
        {
          "output_type": "stream",
          "text": [
            "2020-09-10 07:54:40.527902: I tensorflow/stream_executor/platform/default/dso_loader.cc:48] Successfully opened dynamic library libcudart.so.10.1\n",
            "Running experiment with config {'dataset': 'EmnistDataset', 'model': 'CharacterModel', 'network': 'mlp', 'train_args': {'batch_size': 256}} on GPU 0\n",
            "EMNIST Dataset\n",
            "Num classes: 80\n",
            "Mapping: {0: '0', 1: '1', 2: '2', 3: '3', 4: '4', 5: '5', 6: '6', 7: '7', 8: '8', 9: '9', 10: 'A', 11: 'B', 12: 'C', 13: 'D', 14: 'E', 15: 'F', 16: 'G', 17: 'H', 18: 'I', 19: 'J', 20: 'K', 21: 'L', 22: 'M', 23: 'N', 24: 'O', 25: 'P', 26: 'Q', 27: 'R', 28: 'S', 29: 'T', 30: 'U', 31: 'V', 32: 'W', 33: 'X', 34: 'Y', 35: 'Z', 36: 'a', 37: 'b', 38: 'c', 39: 'd', 40: 'e', 41: 'f', 42: 'g', 43: 'h', 44: 'i', 45: 'j', 46: 'k', 47: 'l', 48: 'm', 49: 'n', 50: 'o', 51: 'p', 52: 'q', 53: 'r', 54: 's', 55: 't', 56: 'u', 57: 'v', 58: 'w', 59: 'x', 60: 'y', 61: 'z', 62: ' ', 63: '!', 64: '\"', 65: '#', 66: '&', 67: \"'\", 68: '(', 69: ')', 70: '*', 71: '+', 72: ',', 73: '-', 74: '.', 75: '/', 76: ':', 77: ';', 78: '?', 79: '_'}\n",
            "Input shape: [28, 28]\n",
            "\n",
            "2020-09-10 07:54:44.255412: I tensorflow/stream_executor/platform/default/dso_loader.cc:48] Successfully opened dynamic library libcuda.so.1\n",
            "2020-09-10 07:54:44.260507: E tensorflow/stream_executor/cuda/cuda_driver.cc:314] failed call to cuInit: CUDA_ERROR_NO_DEVICE: no CUDA-capable device is detected\n",
            "2020-09-10 07:54:44.260554: I tensorflow/stream_executor/cuda/cuda_diagnostics.cc:156] kernel driver does not appear to be running on this host (3cad370b3837): /proc/driver/nvidia/version does not exist\n",
            "2020-09-10 07:54:44.260947: I tensorflow/core/platform/cpu_feature_guard.cc:142] This TensorFlow binary is optimized with oneAPI Deep Neural Network Library (oneDNN)to use the following CPU instructions in performance-critical operations:  AVX2 FMA\n",
            "To enable them in other operations, rebuild TensorFlow with the appropriate compiler flags.\n",
            "2020-09-10 07:54:44.266503: I tensorflow/core/platform/profile_utils/cpu_utils.cc:104] CPU Frequency: 2300000000 Hz\n",
            "2020-09-10 07:54:44.266760: I tensorflow/compiler/xla/service/service.cc:168] XLA service 0x2d519c0 initialized for platform Host (this does not guarantee that XLA will be used). Devices:\n",
            "2020-09-10 07:54:44.266797: I tensorflow/compiler/xla/service/service.cc:176]   StreamExecutor device (0): Host, Default Version\n",
            "Model: \"sequential\"\n",
            "_________________________________________________________________\n",
            "Layer (type)                 Output Shape              Param #   \n",
            "=================================================================\n",
            "flatten (Flatten)            (None, 784)               0         \n",
            "_________________________________________________________________\n",
            "dense (Dense)                (None, 128)               100480    \n",
            "_________________________________________________________________\n",
            "dropout (Dropout)            (None, 128)               0         \n",
            "_________________________________________________________________\n",
            "dense_1 (Dense)              (None, 128)               16512     \n",
            "_________________________________________________________________\n",
            "dropout_1 (Dropout)          (None, 128)               0         \n",
            "_________________________________________________________________\n",
            "dense_2 (Dense)              (None, 128)               16512     \n",
            "_________________________________________________________________\n",
            "dropout_2 (Dropout)          (None, 128)               0         \n",
            "_________________________________________________________________\n",
            "dense_3 (Dense)              (None, 80)                10320     \n",
            "=================================================================\n",
            "Total params: 143,824\n",
            "Trainable params: 143,824\n",
            "Non-trainable params: 0\n",
            "_________________________________________________________________\n",
            "<text_recognizer.models.character_model.CharacterModel object at 0x7feb7c0792e8>\n",
            "Model: \"sequential\"\n",
            "_________________________________________________________________\n",
            "Layer (type)                 Output Shape              Param #   \n",
            "=================================================================\n",
            "flatten (Flatten)            (None, 784)               0         \n",
            "_________________________________________________________________\n",
            "dense (Dense)                (None, 128)               100480    \n",
            "_________________________________________________________________\n",
            "dropout (Dropout)            (None, 128)               0         \n",
            "_________________________________________________________________\n",
            "dense_1 (Dense)              (None, 128)               16512     \n",
            "_________________________________________________________________\n",
            "dropout_1 (Dropout)          (None, 128)               0         \n",
            "_________________________________________________________________\n",
            "dense_2 (Dense)              (None, 128)               16512     \n",
            "_________________________________________________________________\n",
            "dropout_2 (Dropout)          (None, 128)               0         \n",
            "_________________________________________________________________\n",
            "dense_3 (Dense)              (None, 80)                10320     \n",
            "=================================================================\n",
            "Total params: 143,824\n",
            "Trainable params: 143,824\n",
            "Non-trainable params: 0\n",
            "_________________________________________________________________\n",
            "Epoch 1/16\n",
            "1314/1314 [==============================] - 13s 10ms/step - loss: 3.3313 - accuracy: 0.2078 - val_loss: 2.4539 - val_accuracy: 0.3922\n",
            "Epoch 2/16\n",
            "1314/1314 [==============================] - 13s 10ms/step - loss: 1.2873 - accuracy: 0.6064 - val_loss: 0.8126 - val_accuracy: 0.7230\n",
            "Epoch 3/16\n",
            "1314/1314 [==============================] - 14s 10ms/step - loss: 0.9626 - accuracy: 0.6830 - val_loss: 0.7287 - val_accuracy: 0.7446\n",
            "Epoch 4/16\n",
            "1314/1314 [==============================] - 13s 10ms/step - loss: 0.8825 - accuracy: 0.7044 - val_loss: 0.6929 - val_accuracy: 0.7533\n",
            "Epoch 5/16\n",
            "1314/1314 [==============================] - 17s 13ms/step - loss: 0.8427 - accuracy: 0.7157 - val_loss: 0.6609 - val_accuracy: 0.7636\n",
            "Epoch 6/16\n",
            "1314/1314 [==============================] - 14s 11ms/step - loss: 0.8191 - accuracy: 0.7223 - val_loss: 0.6564 - val_accuracy: 0.7645\n",
            "Epoch 7/16\n",
            "1314/1314 [==============================] - 13s 10ms/step - loss: 0.8029 - accuracy: 0.7261 - val_loss: 0.6450 - val_accuracy: 0.7688\n",
            "Epoch 8/16\n",
            "1314/1314 [==============================] - 13s 10ms/step - loss: 0.7896 - accuracy: 0.7310 - val_loss: 0.6371 - val_accuracy: 0.7711\n",
            "Epoch 9/16\n",
            "1314/1314 [==============================] - 13s 10ms/step - loss: 0.7832 - accuracy: 0.7329 - val_loss: 0.6318 - val_accuracy: 0.7720\n",
            "Epoch 10/16\n",
            "1314/1314 [==============================] - 13s 10ms/step - loss: 0.7758 - accuracy: 0.7359 - val_loss: 0.6333 - val_accuracy: 0.7715\n",
            "Epoch 11/16\n",
            "1314/1314 [==============================] - 13s 10ms/step - loss: 0.7713 - accuracy: 0.7365 - val_loss: 0.6275 - val_accuracy: 0.7741\n",
            "Epoch 12/16\n",
            "1314/1314 [==============================] - 14s 11ms/step - loss: 0.7703 - accuracy: 0.7374 - val_loss: 0.6219 - val_accuracy: 0.7753\n",
            "Epoch 00012: early stopping\n",
            "Training took 168.443044 s\n",
            "Test evaluation: 0.7753141300256323\n"
          ],
          "name": "stdout"
        }
      ]
    }
  ]
}