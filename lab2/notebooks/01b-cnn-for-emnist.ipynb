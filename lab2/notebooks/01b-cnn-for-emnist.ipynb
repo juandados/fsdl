{
  "nbformat": 4,
  "nbformat_minor": 0,
  "metadata": {
    "kernelspec": {
      "display_name": "Python 3",
      "language": "python",
      "name": "python3"
    },
    "language_info": {
      "codemirror_mode": {
        "name": "ipython",
        "version": 3
      },
      "file_extension": ".py",
      "mimetype": "text/x-python",
      "name": "python",
      "nbconvert_exporter": "python",
      "pygments_lexer": "ipython3",
      "version": "3.7.6"
    },
    "colab": {
      "name": "01b-cnn-for-emnist.ipynb",
      "provenance": []
    },
    "accelerator": "GPU"
  },
  "cells": [
    {
      "cell_type": "markdown",
      "metadata": {
        "id": "1RKzl_b6GGMr",
        "colab_type": "text"
      },
      "source": [
        "[![Open In Colab](https://colab.research.google.com/assets/colab-badge.svg)](https://colab.research.google.com/github/juandados/fsdl/blob/master/lab2/notebooks/01b-cnn-for-emnist.ipynb)"
      ]
    },
    {
      "cell_type": "code",
      "metadata": {
        "id": "TkPpVuBSGJAq",
        "colab_type": "code",
        "colab": {
          "base_uri": "https://localhost:8080/",
          "height": 136
        },
        "outputId": "4985fcd9-4cdc-494d-984b-c9c3feeb0774"
      },
      "source": [
        "!git clone https://github.com/juandados/fsdl.git"
      ],
      "execution_count": 1,
      "outputs": [
        {
          "output_type": "stream",
          "text": [
            "Cloning into 'fsdl'...\n",
            "remote: Enumerating objects: 233, done.\u001b[K\n",
            "remote: Counting objects: 100% (233/233), done.\u001b[K\n",
            "remote: Compressing objects: 100% (159/159), done.\u001b[K\n",
            "remote: Total 233 (delta 75), reused 213 (delta 64), pack-reused 0\u001b[K\n",
            "Receiving objects: 100% (233/233), 3.56 MiB | 3.16 MiB/s, done.\n",
            "Resolving deltas: 100% (75/75), done.\n"
          ],
          "name": "stdout"
        }
      ]
    },
    {
      "cell_type": "code",
      "metadata": {
        "id": "cPXDyNMVGM0P",
        "colab_type": "code",
        "colab": {
          "base_uri": "https://localhost:8080/",
          "height": 34
        },
        "outputId": "053bd3ad-48dd-4c37-f8a9-bb52a3215548"
      },
      "source": [
        "cd fsdl/lab2/"
      ],
      "execution_count": 2,
      "outputs": [
        {
          "output_type": "stream",
          "text": [
            "/content/fsdl/lab2\n"
          ],
          "name": "stdout"
        }
      ]
    },
    {
      "cell_type": "code",
      "metadata": {
        "id": "uyZQM38FGoyx",
        "colab_type": "code",
        "colab": {
          "base_uri": "https://localhost:8080/",
          "height": 102
        },
        "outputId": "48f84df9-b617-4c8f-b875-eebd6699dd5c"
      },
      "source": [
        "!pip install boltons"
      ],
      "execution_count": 4,
      "outputs": [
        {
          "output_type": "stream",
          "text": [
            "Collecting boltons\n",
            "\u001b[?25l  Downloading https://files.pythonhosted.org/packages/71/e1/e7979a4a6d4b296b5935e926549fff540f7670ddaf09bbf137e2b022c039/boltons-20.2.1-py2.py3-none-any.whl (170kB)\n",
            "\r\u001b[K     |██                              | 10kB 22.4MB/s eta 0:00:01\r\u001b[K     |███▉                            | 20kB 1.7MB/s eta 0:00:01\r\u001b[K     |█████▊                          | 30kB 2.3MB/s eta 0:00:01\r\u001b[K     |███████▊                        | 40kB 2.5MB/s eta 0:00:01\r\u001b[K     |█████████▋                      | 51kB 2.0MB/s eta 0:00:01\r\u001b[K     |███████████▌                    | 61kB 2.3MB/s eta 0:00:01\r\u001b[K     |█████████████▌                  | 71kB 2.5MB/s eta 0:00:01\r\u001b[K     |███████████████▍                | 81kB 2.7MB/s eta 0:00:01\r\u001b[K     |█████████████████▎              | 92kB 2.9MB/s eta 0:00:01\r\u001b[K     |███████████████████▎            | 102kB 2.8MB/s eta 0:00:01\r\u001b[K     |█████████████████████▏          | 112kB 2.8MB/s eta 0:00:01\r\u001b[K     |███████████████████████         | 122kB 2.8MB/s eta 0:00:01\r\u001b[K     |█████████████████████████       | 133kB 2.8MB/s eta 0:00:01\r\u001b[K     |███████████████████████████     | 143kB 2.8MB/s eta 0:00:01\r\u001b[K     |████████████████████████████▉   | 153kB 2.8MB/s eta 0:00:01\r\u001b[K     |██████████████████████████████▉ | 163kB 2.8MB/s eta 0:00:01\r\u001b[K     |████████████████████████████████| 174kB 2.8MB/s \n",
            "\u001b[?25hInstalling collected packages: boltons\n",
            "Successfully installed boltons-20.2.1\n"
          ],
          "name": "stdout"
        }
      ]
    },
    {
      "cell_type": "code",
      "metadata": {
        "id": "M24wpNq1GGMy",
        "colab_type": "code",
        "colab": {
          "base_uri": "https://localhost:8080/",
          "height": 51
        },
        "outputId": "64f49239-36a8-42b6-ca22-7ee3cbd77022"
      },
      "source": [
        "%load_ext autoreload\n",
        "%autoreload 2\n",
        "\n",
        "%matplotlib inline\n",
        "import matplotlib.pyplot as plt\n",
        "import numpy as np\n",
        "import tensorflow as tf\n",
        "\n",
        "from importlib.util import find_spec\n",
        "if find_spec(\"text_recognizer\") is None:\n",
        "    import sys\n",
        "    sys.path.append('..')\n",
        "\n",
        "from text_recognizer.datasets.emnist_dataset import EmnistDataset"
      ],
      "execution_count": 5,
      "outputs": [
        {
          "output_type": "stream",
          "text": [
            "The autoreload extension is already loaded. To reload it, use:\n",
            "  %reload_ext autoreload\n"
          ],
          "name": "stdout"
        }
      ]
    },
    {
      "cell_type": "code",
      "metadata": {
        "id": "JuFoUEGlGGNQ",
        "colab_type": "code",
        "colab": {
          "base_uri": "https://localhost:8080/",
          "height": 309
        },
        "outputId": "5af44e61-ad2a-4ccd-d8d5-48c82b5d0a56"
      },
      "source": [
        "dataset = EmnistDataset(subsample_fraction=0.25)\n",
        "dataset.load_or_generate_data()\n",
        "print(dataset)\n",
        "print(dataset.x_train.shape, dataset.y_train.shape)\n",
        "print(dataset.x_test.shape, dataset.y_test.shape)"
      ],
      "execution_count": 6,
      "outputs": [
        {
          "output_type": "stream",
          "text": [
            "\r0.00B [00:00, ?B/s]"
          ],
          "name": "stderr"
        },
        {
          "output_type": "stream",
          "text": [
            "Downloading raw dataset from https://s3-us-west-2.amazonaws.com/fsdl-public-assets/matlab.zip...\n"
          ],
          "name": "stdout"
        },
        {
          "output_type": "stream",
          "text": [
            "709MB [00:35, 20.7MB/s]                           \n"
          ],
          "name": "stderr"
        },
        {
          "output_type": "stream",
          "text": [
            "Computing SHA-256...\n",
            "Unzipping EMNIST...\n",
            "Loading training data from .mat file\n",
            "Balancing classes to reduce amount of data\n",
            "Saving to HDF5 in a compressed format...\n",
            "Saving essential dataset parameters to text_recognizer/datasets...\n",
            "Cleaning up...\n",
            "EMNIST Dataset\n",
            "Num classes: 80\n",
            "Mapping: {0: '0', 1: '1', 2: '2', 3: '3', 4: '4', 5: '5', 6: '6', 7: '7', 8: '8', 9: '9', 10: 'A', 11: 'B', 12: 'C', 13: 'D', 14: 'E', 15: 'F', 16: 'G', 17: 'H', 18: 'I', 19: 'J', 20: 'K', 21: 'L', 22: 'M', 23: 'N', 24: 'O', 25: 'P', 26: 'Q', 27: 'R', 28: 'S', 29: 'T', 30: 'U', 31: 'V', 32: 'W', 33: 'X', 34: 'Y', 35: 'Z', 36: 'a', 37: 'b', 38: 'c', 39: 'd', 40: 'e', 41: 'f', 42: 'g', 43: 'h', 44: 'i', 45: 'j', 46: 'k', 47: 'l', 48: 'm', 49: 'n', 50: 'o', 51: 'p', 52: 'q', 53: 'r', 54: 's', 55: 't', 56: 'u', 57: 'v', 58: 'w', 59: 'x', 60: 'y', 61: 'z', 62: ' ', 63: '!', 64: '\"', 65: '#', 66: '&', 67: \"'\", 68: '(', 69: ')', 70: '*', 71: '+', 72: ',', 73: '-', 74: '.', 75: '/', 76: ':', 77: ';', 78: '?', 79: '_'}\n",
            "Input shape: [28, 28]\n",
            "\n",
            "(84074, 28, 28) (84074, 80)\n",
            "(13947, 28, 28) (13947, 80)\n"
          ],
          "name": "stdout"
        }
      ]
    },
    {
      "cell_type": "code",
      "metadata": {
        "id": "dYfO6dr2GGNg",
        "colab_type": "code",
        "colab": {
          "base_uri": "https://localhost:8080/",
          "height": 459
        },
        "outputId": "83816e76-d914-45be-87a9-5656906e1e9c"
      },
      "source": [
        "from text_recognizer.networks.lenet import lenet\n",
        "\n",
        "network = lenet(dataset.input_shape, output_shape=(dataset.num_classes, 1))\n",
        "network.summary()"
      ],
      "execution_count": 7,
      "outputs": [
        {
          "output_type": "stream",
          "text": [
            "Model: \"sequential\"\n",
            "_________________________________________________________________\n",
            "Layer (type)                 Output Shape              Param #   \n",
            "=================================================================\n",
            "expand_dims (Lambda)         (None, 28, 28, 1)         0         \n",
            "_________________________________________________________________\n",
            "conv2d (Conv2D)              (None, 26, 26, 32)        320       \n",
            "_________________________________________________________________\n",
            "conv2d_1 (Conv2D)            (None, 24, 24, 64)        18496     \n",
            "_________________________________________________________________\n",
            "max_pooling2d (MaxPooling2D) (None, 12, 12, 64)        0         \n",
            "_________________________________________________________________\n",
            "dropout (Dropout)            (None, 12, 12, 64)        0         \n",
            "_________________________________________________________________\n",
            "flatten (Flatten)            (None, 9216)              0         \n",
            "_________________________________________________________________\n",
            "dense (Dense)                (None, 128)               1179776   \n",
            "_________________________________________________________________\n",
            "dropout_1 (Dropout)          (None, 128)               0         \n",
            "_________________________________________________________________\n",
            "dense_1 (Dense)              (None, 80)                10320     \n",
            "=================================================================\n",
            "Total params: 1,208,912\n",
            "Trainable params: 1,208,912\n",
            "Non-trainable params: 0\n",
            "_________________________________________________________________\n"
          ],
          "name": "stdout"
        }
      ]
    },
    {
      "cell_type": "code",
      "metadata": {
        "id": "b5YWszZYGGNo",
        "colab_type": "code",
        "colab": {
          "base_uri": "https://localhost:8080/",
          "height": 204
        },
        "outputId": "9fc2502b-5b33-4ed4-ce88-1c9840a76e12"
      },
      "source": [
        "network.compile(optimizer='sgd', loss='categorical_crossentropy', metrics='accuracy')\n",
        "network.fit(\n",
        "    x=dataset.x_train,\n",
        "    y=dataset.y_train,\n",
        "    batch_size=64,\n",
        "    epochs=5,\n",
        "    validation_data=(dataset.x_test, dataset.y_test)\n",
        ")"
      ],
      "execution_count": 8,
      "outputs": [
        {
          "output_type": "stream",
          "text": [
            "Epoch 1/5\n",
            "1314/1314 [==============================] - 13s 10ms/step - loss: 0.2788 - accuracy: 0.9326 - val_loss: 0.0545 - val_accuracy: 0.9831\n",
            "Epoch 2/5\n",
            "1314/1314 [==============================] - 12s 9ms/step - loss: 0.0690 - accuracy: 0.9796 - val_loss: 0.0387 - val_accuracy: 0.9881\n",
            "Epoch 3/5\n",
            "1314/1314 [==============================] - 12s 9ms/step - loss: 0.0510 - accuracy: 0.9853 - val_loss: 0.0395 - val_accuracy: 0.9889\n",
            "Epoch 4/5\n",
            "1314/1314 [==============================] - 12s 9ms/step - loss: 0.0407 - accuracy: 0.9879 - val_loss: 0.0291 - val_accuracy: 0.9900\n",
            "Epoch 5/5\n",
            "1314/1314 [==============================] - 12s 9ms/step - loss: 0.0328 - accuracy: 0.9901 - val_loss: 0.0280 - val_accuracy: 0.9914\n"
          ],
          "name": "stdout"
        },
        {
          "output_type": "execute_result",
          "data": {
            "text/plain": [
              "<tensorflow.python.keras.callbacks.History at 0x7f41f0186b38>"
            ]
          },
          "metadata": {
            "tags": []
          },
          "execution_count": 8
        }
      ]
    },
    {
      "cell_type": "code",
      "metadata": {
        "id": "toyPsghSGGNz",
        "colab_type": "code",
        "colab": {
          "base_uri": "https://localhost:8080/",
          "height": 666
        },
        "outputId": "5bcad7fa-fd60-4cf4-a56c-7673a6a211fa"
      },
      "source": [
        "x_example = dataset.x_test[0:1]\n",
        "plt.matshow(x_example[0])\n",
        "\n",
        "x_example = np.expand_dims(x_example, -1)\n",
        "print(x_example.shape)\n",
        "preds = network.predict(x_example)\n",
        "print(preds)\n",
        "\n",
        "ind = np.argmax(preds)\n",
        "print(ind)\n",
        "\n",
        "print(dataset.mapping[ind])"
      ],
      "execution_count": 9,
      "outputs": [
        {
          "output_type": "stream",
          "text": [
            "(1, 28, 28, 1)\n",
            "[[9.99988675e-01 4.02634015e-09 1.03027196e-05 1.03922053e-08\n",
            "  1.50338308e-09 2.99876657e-09 9.37912660e-07 9.81818880e-12\n",
            "  1.24116806e-08 6.03248083e-13 1.18856159e-17 2.61337989e-14\n",
            "  5.60046428e-14 3.04447548e-12 1.94146487e-11 2.93746976e-16\n",
            "  3.07029333e-11 4.25387915e-13 5.57116575e-14 4.27616032e-13\n",
            "  1.96009292e-13 3.74733612e-11 3.01650252e-14 5.15959320e-15\n",
            "  6.44629424e-13 6.71048247e-16 3.84566036e-14 5.54168189e-14\n",
            "  2.38288867e-14 3.68353975e-13 1.17016772e-14 2.88165867e-13\n",
            "  8.92271066e-13 1.95553816e-12 2.18852361e-13 3.63057024e-13\n",
            "  3.27192402e-13 8.37312966e-13 2.19129168e-14 4.72200924e-12\n",
            "  3.37555423e-13 1.74007063e-13 3.88925816e-13 1.56694505e-10\n",
            "  1.83189338e-16 5.09151572e-14 2.99860180e-12 9.50043169e-11\n",
            "  1.68715931e-12 5.64334040e-12 5.20644292e-11 2.21942792e-14\n",
            "  2.33994407e-10 2.43439590e-14 1.14068152e-12 6.85338857e-16\n",
            "  1.37545539e-11 3.46808763e-14 2.21995053e-16 8.30086528e-15\n",
            "  8.91560437e-12 1.74288481e-12 5.03505861e-14 3.46064919e-13\n",
            "  7.04770647e-14 5.01659075e-16 7.92314478e-11 1.16482898e-12\n",
            "  2.23642427e-15 1.43931447e-14 1.13833368e-13 5.24114553e-15\n",
            "  2.13687656e-13 6.86498428e-11 5.58410468e-13 1.24961585e-14\n",
            "  3.13616327e-18 6.10326405e-13 1.65831959e-10 5.99205608e-14]]\n",
            "0\n",
            "0\n"
          ],
          "name": "stdout"
        },
        {
          "output_type": "display_data",
          "data": {
            "image/png": "[encoded data removed]",
            "text/plain": [
              "<Figure size 288x288 with 1 Axes>"
            ]
          },
          "metadata": {
            "tags": [],
            "needs_background": "light"
          }
        }
      ]
    },
    {
      "cell_type": "code",
      "metadata": {
        "id": "lWd7RhaAHROa",
        "colab_type": "code",
        "colab": {}
      },
      "source": [
        ""
      ],
      "execution_count": null,
      "outputs": []
    }
  ]
}